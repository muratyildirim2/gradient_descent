{
 "cells": [
  {
   "cell_type": "code",
   "execution_count": 1,
   "id": "68f0d690",
   "metadata": {},
   "outputs": [],
   "source": [
    "import pandas as pd\n",
    "import numpy as np"
   ]
  },
  {
   "cell_type": "code",
   "execution_count": 2,
   "id": "1f61bd2b",
   "metadata": {},
   "outputs": [],
   "source": [
    "def mean_squared_error(y_true,y_predicted):\n",
    "    \n",
    "    return np.sum((y_true-y_predicted)**2)/len(y_true)\n",
    "    #ortalama kareler farkı "
   ]
  },
  {
   "cell_type": "code",
   "execution_count": 8,
   "id": "8240885d",
   "metadata": {},
   "outputs": [],
   "source": [
    "def gradient_descent(x,y,iterations=100,learning_rate=0.01,early_stopping_threshold=0.00001) :\n",
    "    current_weight = 0.1\n",
    "    current_bias = 0.1\n",
    "    iterations = iterations\n",
    "    learning_rate = learning_rate\n",
    "    n = float(len(x))\n",
    "    \n",
    "    \n",
    "    costs = []\n",
    "    weights = []\n",
    "    previous_cost = None\n",
    "    \n",
    "    for i in range(iterations):\n",
    "        \n",
    "        #prediction işlemi yapılır.\n",
    "        y_predicted = (current_weight * x) + current_bias\n",
    "        \n",
    "        #cost hesaplanır.\n",
    "        current_cost = mean_squared_error(y,y_predicted)\n",
    "        \n",
    "        if previous_cost and abs(previous_cost-current_cost)<=early_stopping_threshold:\n",
    "            break\n",
    "        \n",
    "        previous_cost = current_cost\n",
    "        costs.append(current_cost)\n",
    "        weights.append(current_weight)\n",
    "        \n",
    "        weight_derivative = -(2/n) * sum(x * (y-y_predicted))\n",
    "        bias_derivative = -(2/n) * sum(y-y_predicted)\n",
    "        #gradient hesaplamaları\n",
    "        \n",
    "        \n",
    "        current_weight = current_weight - (learning_rate * weight_derivative)\n",
    "        current_bias = current_bias - (learning_rate * bias_derivative)\n",
    "        #bias ve weight update et\n",
    "        \n",
    "        \n",
    "        print(f\"Iteration {i+1}: Cost {current_cost}, Weight {current_weight}, Bias {current_bias}\")\n",
    "     \n",
    "    return current_weight, current_bias       "
   ]
  }
 ],
 "metadata": {
  "kernelspec": {
   "display_name": "Python 3 (ipykernel)",
   "language": "python",
   "name": "python3"
  },
  "language_info": {
   "codemirror_mode": {
    "name": "ipython",
    "version": 3
   },
   "file_extension": ".py",
   "mimetype": "text/x-python",
   "name": "python",
   "nbconvert_exporter": "python",
   "pygments_lexer": "ipython3",
   "version": "3.11.3"
  }
 },
 "nbformat": 4,
 "nbformat_minor": 5
}
